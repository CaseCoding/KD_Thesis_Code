{
  "metadata": {
    "kernelspec": {
      "language": "python",
      "display_name": "Python 3",
      "name": "python3"
    },
    "language_info": {
      "name": "python",
      "version": "3.10.12",
      "mimetype": "text/x-python",
      "codemirror_mode": {
        "name": "ipython",
        "version": 3
      },
      "pygments_lexer": "ipython3",
      "nbconvert_exporter": "python",
      "file_extension": ".py"
    },
    "colab": {
      "provenance": []
    }
  },
  "nbformat_minor": 0,
  "nbformat": 4,
  "cells": [
    {
      "cell_type": "code",
      "source": [
        "from google.colab import drive\n",
        "drive.mount('/content/drive')"
      ],
      "metadata": {
        "colab": {
          "base_uri": "https://localhost:8080/"
        },
        "id": "MsNv7VBfhUs0",
        "outputId": "55562f6f-c6d7-4596-ec73-41ef5fb8accb"
      },
      "execution_count": null,
      "outputs": [
        {
          "output_type": "stream",
          "name": "stdout",
          "text": [
            "Mounted at /content/drive\n"
          ]
        }
      ]
    },
    {
      "cell_type": "code",
      "source": [
        "# This Python 3 environment comes with many helpful analytics libraries installed\n",
        "# It is defined by the kaggle/python Docker image: https://github.com/kaggle/docker-python\n",
        "# For example, here's several helpful packages to load\n",
        "\n",
        "import numpy as np # linear algebra\n",
        "import pandas as pd # data processing, CSV file I/O (e.g. pd.read_csv)\n",
        "\n",
        "# Input data files are available in the read-only \"../input/\" directory\n",
        "# For example, running this (by clicking run or pressing Shift+Enter) will list all files under the input directory\n",
        "\n",
        "import os\n",
        "for dirname, _, filenames in os.walk('/content/drive/MyDrive/Thesis_Bsc'):\n",
        "    for filename in filenames:\n",
        "        print(os.path.join(dirname, filename))\n",
        "\n",
        "# You can write up to 20GB to the current directory (/kaggle/working/) that gets preserved as output when you create a version using \"Save & Run All\"\n",
        "# You can also write temporary files to /kaggle/temp/, but they won't be saved outside of the current session"
      ],
      "metadata": {
        "_uuid": "8f2839f25d086af736a60e9eeb907d3b93b6e0e5",
        "_cell_guid": "b1076dfc-b9ad-4769-8c92-a6c4dae69d19",
        "execution": {
          "iopub.status.busy": "2023-12-14T08:33:25.859560Z",
          "iopub.execute_input": "2023-12-14T08:33:25.859952Z",
          "iopub.status.idle": "2023-12-14T08:33:44.375081Z",
          "shell.execute_reply.started": "2023-12-14T08:33:25.859920Z",
          "shell.execute_reply": "2023-12-14T08:33:44.373973Z"
        },
        "trusted": true,
        "id": "ZaVAB6H9g-78"
      },
      "execution_count": null,
      "outputs": []
    },
    {
      "cell_type": "code",
      "source": [
        "import seaborn as sns\n",
        "sns.set_style('darkgrid')\n",
        "import matplotlib.pyplot as plt\n",
        "import tensorflow as tf\n",
        "from tensorflow import keras\n",
        "from keras.models import Sequential\n",
        "from keras.layers import Dense,BatchNormalization,Dropout,Flatten,MaxPooling2D,Conv2D,Activation\n",
        "from sklearn.preprocessing import LabelEncoder,OneHotEncoder\n",
        "from sklearn.model_selection import train_test_split\n",
        "from PIL import Image\n",
        "from sklearn.metrics import confusion_matrix,classification_report\n",
        "import os\n",
        "import glob"
      ],
      "metadata": {
        "execution": {
          "iopub.status.busy": "2023-12-14T08:44:08.339689Z",
          "iopub.execute_input": "2023-12-14T08:44:08.340850Z",
          "iopub.status.idle": "2023-12-14T08:44:08.349299Z",
          "shell.execute_reply.started": "2023-12-14T08:44:08.340794Z",
          "shell.execute_reply": "2023-12-14T08:44:08.347898Z"
        },
        "trusted": true,
        "id": "C0B9OHbfg-79"
      },
      "execution_count": null,
      "outputs": []
    },
    {
      "cell_type": "code",
      "source": [
        "encoder=OneHotEncoder()\n",
        "encoder.fit([[0],[1],[2],[3],[4],[5]])"
      ],
      "metadata": {
        "execution": {
          "iopub.status.busy": "2023-12-14T08:44:12.851224Z",
          "iopub.execute_input": "2023-12-14T08:44:12.852231Z",
          "iopub.status.idle": "2023-12-14T08:44:12.868107Z",
          "shell.execute_reply.started": "2023-12-14T08:44:12.852191Z",
          "shell.execute_reply": "2023-12-14T08:44:12.866859Z"
        },
        "trusted": true,
        "colab": {
          "base_uri": "https://localhost:8080/",
          "height": 74
        },
        "id": "pi6JaE-Dg-7-",
        "outputId": "c749153a-cce4-4000-b19f-41ffecb8d12a"
      },
      "execution_count": null,
      "outputs": [
        {
          "output_type": "execute_result",
          "data": {
            "text/plain": [
              "OneHotEncoder()"
            ],
            "text/html": [
              "<style>#sk-container-id-1 {color: black;background-color: white;}#sk-container-id-1 pre{padding: 0;}#sk-container-id-1 div.sk-toggleable {background-color: white;}#sk-container-id-1 label.sk-toggleable__label {cursor: pointer;display: block;width: 100%;margin-bottom: 0;padding: 0.3em;box-sizing: border-box;text-align: center;}#sk-container-id-1 label.sk-toggleable__label-arrow:before {content: \"▸\";float: left;margin-right: 0.25em;color: #696969;}#sk-container-id-1 label.sk-toggleable__label-arrow:hover:before {color: black;}#sk-container-id-1 div.sk-estimator:hover label.sk-toggleable__label-arrow:before {color: black;}#sk-container-id-1 div.sk-toggleable__content {max-height: 0;max-width: 0;overflow: hidden;text-align: left;background-color: #f0f8ff;}#sk-container-id-1 div.sk-toggleable__content pre {margin: 0.2em;color: black;border-radius: 0.25em;background-color: #f0f8ff;}#sk-container-id-1 input.sk-toggleable__control:checked~div.sk-toggleable__content {max-height: 200px;max-width: 100%;overflow: auto;}#sk-container-id-1 input.sk-toggleable__control:checked~label.sk-toggleable__label-arrow:before {content: \"▾\";}#sk-container-id-1 div.sk-estimator input.sk-toggleable__control:checked~label.sk-toggleable__label {background-color: #d4ebff;}#sk-container-id-1 div.sk-label input.sk-toggleable__control:checked~label.sk-toggleable__label {background-color: #d4ebff;}#sk-container-id-1 input.sk-hidden--visually {border: 0;clip: rect(1px 1px 1px 1px);clip: rect(1px, 1px, 1px, 1px);height: 1px;margin: -1px;overflow: hidden;padding: 0;position: absolute;width: 1px;}#sk-container-id-1 div.sk-estimator {font-family: monospace;background-color: #f0f8ff;border: 1px dotted black;border-radius: 0.25em;box-sizing: border-box;margin-bottom: 0.5em;}#sk-container-id-1 div.sk-estimator:hover {background-color: #d4ebff;}#sk-container-id-1 div.sk-parallel-item::after {content: \"\";width: 100%;border-bottom: 1px solid gray;flex-grow: 1;}#sk-container-id-1 div.sk-label:hover label.sk-toggleable__label {background-color: #d4ebff;}#sk-container-id-1 div.sk-serial::before {content: \"\";position: absolute;border-left: 1px solid gray;box-sizing: border-box;top: 0;bottom: 0;left: 50%;z-index: 0;}#sk-container-id-1 div.sk-serial {display: flex;flex-direction: column;align-items: center;background-color: white;padding-right: 0.2em;padding-left: 0.2em;position: relative;}#sk-container-id-1 div.sk-item {position: relative;z-index: 1;}#sk-container-id-1 div.sk-parallel {display: flex;align-items: stretch;justify-content: center;background-color: white;position: relative;}#sk-container-id-1 div.sk-item::before, #sk-container-id-1 div.sk-parallel-item::before {content: \"\";position: absolute;border-left: 1px solid gray;box-sizing: border-box;top: 0;bottom: 0;left: 50%;z-index: -1;}#sk-container-id-1 div.sk-parallel-item {display: flex;flex-direction: column;z-index: 1;position: relative;background-color: white;}#sk-container-id-1 div.sk-parallel-item:first-child::after {align-self: flex-end;width: 50%;}#sk-container-id-1 div.sk-parallel-item:last-child::after {align-self: flex-start;width: 50%;}#sk-container-id-1 div.sk-parallel-item:only-child::after {width: 0;}#sk-container-id-1 div.sk-dashed-wrapped {border: 1px dashed gray;margin: 0 0.4em 0.5em 0.4em;box-sizing: border-box;padding-bottom: 0.4em;background-color: white;}#sk-container-id-1 div.sk-label label {font-family: monospace;font-weight: bold;display: inline-block;line-height: 1.2em;}#sk-container-id-1 div.sk-label-container {text-align: center;}#sk-container-id-1 div.sk-container {/* jupyter's `normalize.less` sets `[hidden] { display: none; }` but bootstrap.min.css set `[hidden] { display: none !important; }` so we also need the `!important` here to be able to override the default hidden behavior on the sphinx rendered scikit-learn.org. See: https://github.com/scikit-learn/scikit-learn/issues/21755 */display: inline-block !important;position: relative;}#sk-container-id-1 div.sk-text-repr-fallback {display: none;}</style><div id=\"sk-container-id-1\" class=\"sk-top-container\"><div class=\"sk-text-repr-fallback\"><pre>OneHotEncoder()</pre><b>In a Jupyter environment, please rerun this cell to show the HTML representation or trust the notebook. <br />On GitHub, the HTML representation is unable to render, please try loading this page with nbviewer.org.</b></div><div class=\"sk-container\" hidden><div class=\"sk-item\"><div class=\"sk-estimator sk-toggleable\"><input class=\"sk-toggleable__control sk-hidden--visually\" id=\"sk-estimator-id-1\" type=\"checkbox\" checked><label for=\"sk-estimator-id-1\" class=\"sk-toggleable__label sk-toggleable__label-arrow\">OneHotEncoder</label><div class=\"sk-toggleable__content\"><pre>OneHotEncoder()</pre></div></div></div></div></div>"
            ]
          },
          "metadata": {},
          "execution_count": 4
        }
      ]
    },
    {
      "cell_type": "code",
      "source": [
        "data=[]\n",
        "paths=[]\n",
        "result=[]\n",
        "\n",
        "for r,d,f in os.walk('/content/drive/MyDrive/Thesis_Bsc/train/angry'):\n",
        "    for file in f:\n",
        "        if '.jpg' or '.png' in file:\n",
        "            paths.append(os.path.join(r,file))\n",
        "for path in paths:\n",
        "    img=Image.open(path)\n",
        "    img=img.resize((48,48))\n",
        "    img=np.array(img)\n",
        "    data.append(np.array(img))\n",
        "    result.append(encoder.transform([[0]]).toarray())\n"
      ],
      "metadata": {
        "execution": {
          "iopub.status.busy": "2023-12-14T08:50:41.246522Z",
          "iopub.execute_input": "2023-12-14T08:50:41.247256Z",
          "iopub.status.idle": "2023-12-14T08:51:03.536223Z",
          "shell.execute_reply.started": "2023-12-14T08:50:41.247223Z",
          "shell.execute_reply": "2023-12-14T08:51:03.535302Z"
        },
        "trusted": true,
        "id": "Gr8Z1KO0g-7-"
      },
      "execution_count": null,
      "outputs": []
    },
    {
      "cell_type": "code",
      "source": [
        "\n",
        "paths=[]\n",
        "\n",
        "for r,d,f in os.walk('/content/drive/MyDrive/Thesis_Bsc/train/fear'):\n",
        "    for file in f:\n",
        "        if '.jpg' or '.png' in file:\n",
        "            paths.append(os.path.join(r,file))\n",
        "for path in paths:\n",
        "    img=Image.open(path)\n",
        "    img=img.resize((48,48))\n",
        "    img=np.array(img)\n",
        "    data.append(np.array(img))\n",
        "    result.append(encoder.transform([[1]]).toarray())"
      ],
      "metadata": {
        "execution": {
          "iopub.status.busy": "2023-12-14T08:52:08.082854Z",
          "iopub.execute_input": "2023-12-14T08:52:08.083776Z",
          "iopub.status.idle": "2023-12-14T08:52:26.870731Z",
          "shell.execute_reply.started": "2023-12-14T08:52:08.083737Z",
          "shell.execute_reply": "2023-12-14T08:52:26.869449Z"
        },
        "trusted": true,
        "id": "81SDAgXJg-7-"
      },
      "execution_count": null,
      "outputs": []
    },
    {
      "cell_type": "code",
      "source": [
        "paths=[]\n",
        "for r,d,f in os.walk('/content/drive/MyDrive/Thesis_Bsc/train/happy'):\n",
        "    for file in f:\n",
        "        if '.jpg' or '.png' in file:\n",
        "            paths.append(os.path.join(r,file))\n",
        "for path in paths:\n",
        "    img=Image.open(path)\n",
        "    img=img.resize((48,48))\n",
        "    img=np.array(img)\n",
        "    data.append(np.array(img))\n",
        "    result.append(encoder.transform([[2]]).toarray())"
      ],
      "metadata": {
        "execution": {
          "iopub.status.busy": "2023-12-14T08:53:03.792763Z",
          "iopub.execute_input": "2023-12-14T08:53:03.793152Z",
          "iopub.status.idle": "2023-12-14T08:53:55.278771Z",
          "shell.execute_reply.started": "2023-12-14T08:53:03.793123Z",
          "shell.execute_reply": "2023-12-14T08:53:55.277678Z"
        },
        "trusted": true,
        "id": "2qDMAl5Xg-7-"
      },
      "execution_count": null,
      "outputs": []
    },
    {
      "cell_type": "code",
      "source": [
        "paths=[]\n",
        "for r,d,f in os.walk('/content/drive/MyDrive/Thesis_Bsc/train/neutral'):\n",
        "    for file in f:\n",
        "        if '.jpg' or '.png' in file:\n",
        "            paths.append(os.path.join(r,file))\n",
        "for path in paths:\n",
        "    img=Image.open(path)\n",
        "    img=img.resize((48,48))\n",
        "    img=np.array(img)\n",
        "    data.append(np.array(img))\n",
        "    result.append(encoder.transform([[3]]).toarray())"
      ],
      "metadata": {
        "execution": {
          "iopub.status.busy": "2023-12-14T08:54:40.428726Z",
          "iopub.execute_input": "2023-12-14T08:54:40.429159Z",
          "iopub.status.idle": "2023-12-14T08:55:41.252898Z",
          "shell.execute_reply.started": "2023-12-14T08:54:40.429128Z",
          "shell.execute_reply": "2023-12-14T08:55:41.251647Z"
        },
        "trusted": true,
        "id": "Gh_dbxmcg-7-"
      },
      "execution_count": null,
      "outputs": []
    },
    {
      "cell_type": "code",
      "source": [
        "paths=[]\n",
        "for r,d,f in os.walk('/content/drive/MyDrive/Thesis_Bsc/train/sad'):\n",
        "    for file in f:\n",
        "        if '.jpg' or '.png' in file:\n",
        "            paths.append(os.path.join(r,file))\n",
        "for path in paths:\n",
        "    img=Image.open(path)\n",
        "    img=img.resize((48,48))\n",
        "    img=np.array(img)\n",
        "    data.append(np.array(img))\n",
        "    result.append(encoder.transform([[4]]).toarray())"
      ],
      "metadata": {
        "execution": {
          "iopub.status.busy": "2023-12-14T08:55:41.256525Z",
          "iopub.execute_input": "2023-12-14T08:55:41.256851Z",
          "iopub.status.idle": "2023-12-14T08:56:39.324119Z",
          "shell.execute_reply.started": "2023-12-14T08:55:41.256823Z",
          "shell.execute_reply": "2023-12-14T08:56:39.322927Z"
        },
        "trusted": true,
        "id": "cqiJlD0Ng-7-"
      },
      "execution_count": null,
      "outputs": []
    },
    {
      "cell_type": "code",
      "source": [
        "paths=[]\n",
        "for r,d,f in os.walk('/content/drive/MyDrive/Thesis_Bsc/train/surprise'):\n",
        "    for file in f:\n",
        "        if '.jpg' or '.png' in file:\n",
        "            paths.append(os.path.join(r,file))\n",
        "for path in paths:\n",
        "    img=Image.open(path)\n",
        "    img=img.resize((48,48))\n",
        "    img=np.array(img)\n",
        "    data.append(np.array(img))\n",
        "    result.append(encoder.transform([[5]]).toarray())"
      ],
      "metadata": {
        "execution": {
          "iopub.status.busy": "2023-12-14T08:58:58.845441Z",
          "iopub.execute_input": "2023-12-14T08:58:58.846428Z",
          "iopub.status.idle": "2023-12-14T08:59:18.127111Z",
          "shell.execute_reply.started": "2023-12-14T08:58:58.846373Z",
          "shell.execute_reply": "2023-12-14T08:59:18.126244Z"
        },
        "trusted": true,
        "id": "sYBcuxAXg-7_"
      },
      "execution_count": null,
      "outputs": []
    },
    {
      "cell_type": "code",
      "source": [
        "data=np.array(data)\n",
        "data.shape"
      ],
      "metadata": {
        "execution": {
          "iopub.status.busy": "2023-12-14T08:59:42.412746Z",
          "iopub.execute_input": "2023-12-14T08:59:42.413708Z",
          "iopub.status.idle": "2023-12-14T08:59:42.659419Z",
          "shell.execute_reply.started": "2023-12-14T08:59:42.413674Z",
          "shell.execute_reply": "2023-12-14T08:59:42.658467Z"
        },
        "trusted": true,
        "colab": {
          "base_uri": "https://localhost:8080/"
        },
        "id": "YhClnH7Ug-7_",
        "outputId": "f52f5e20-e71b-4a12-9ea2-43f3f1f6d555"
      },
      "execution_count": null,
      "outputs": [
        {
          "output_type": "execute_result",
          "data": {
            "text/plain": [
              "(28273, 48, 48)"
            ]
          },
          "metadata": {},
          "execution_count": 24
        }
      ]
    },
    {
      "cell_type": "code",
      "source": [
        "result=np.array(result)\n",
        "#result=result.reshape(15453,6)\n",
        "result.shape"
      ],
      "metadata": {
        "execution": {
          "iopub.status.busy": "2023-12-14T09:00:32.952091Z",
          "iopub.execute_input": "2023-12-14T09:00:32.953019Z",
          "iopub.status.idle": "2023-12-14T09:00:32.970498Z",
          "shell.execute_reply.started": "2023-12-14T09:00:32.952985Z",
          "shell.execute_reply": "2023-12-14T09:00:32.969346Z"
        },
        "trusted": true,
        "colab": {
          "base_uri": "https://localhost:8080/"
        },
        "id": "GKlKUbJfg-7_",
        "outputId": "a4a09b6a-a786-44f8-c383-8a2810b842ef"
      },
      "execution_count": null,
      "outputs": [
        {
          "output_type": "execute_result",
          "data": {
            "text/plain": [
              "(28273, 6)"
            ]
          },
          "metadata": {},
          "execution_count": 25
        }
      ]
    },
    {
      "cell_type": "code",
      "source": [
        "from collections import Counter\n",
        "import numpy as np\n",
        "\n",
        "# Assuming 'results' is a list or an array of one-hot encoded labels\n",
        "# Example: results = np.array([[0, 1, 0, 0, 0, 0], [1, 0, 0, 0, 0, 0], ...])\n",
        "\n",
        "class_indices = np.argmax(result, axis=1)\n",
        "class_counts = Counter(class_indices)\n",
        "\n",
        "print(class_counts)\n"
      ],
      "metadata": {
        "colab": {
          "base_uri": "https://localhost:8080/"
        },
        "id": "ctiEDumJ47jM",
        "outputId": "a7a919cc-7679-47a2-9225-5eaa3ea5254b"
      },
      "execution_count": null,
      "outputs": [
        {
          "output_type": "stream",
          "name": "stdout",
          "text": [
            "Counter({2: 7215, 3: 4965, 4: 4830, 1: 4097, 0: 3995, 5: 3171})\n"
          ]
        }
      ]
    },
    {
      "cell_type": "code",
      "source": [
        "test_data=[]\n",
        "paths=[]\n",
        "test_result=[]\n",
        "\n",
        "for r,d,f in os.walk('/content/drive/MyDrive/Thesis_Bsc/test/angry'):\n",
        "    for file in f:\n",
        "        if '.jpg' or '.png' in file:\n",
        "            paths.append(os.path.join(r,file))\n",
        "for path in paths:\n",
        "    img=Image.open(path)\n",
        "    img=img.resize((48,48))\n",
        "    img=np.array(img)\n",
        "    test_data.append(np.array(img))\n",
        "    test_result.append(encoder.transform([[0]]).toarray())\n"
      ],
      "metadata": {
        "id": "P42dUPb601kI"
      },
      "execution_count": null,
      "outputs": []
    },
    {
      "cell_type": "code",
      "source": [
        "paths=[]\n",
        "\n",
        "for r,d,f in os.walk('/content/drive/MyDrive/Thesis_Bsc/test/fear'):\n",
        "    for file in f:\n",
        "        if '.jpg' or '.png' in file:\n",
        "            paths.append(os.path.join(r,file))\n",
        "for path in paths:\n",
        "    img=Image.open(path)\n",
        "    img=img.resize((48,48))\n",
        "    img=np.array(img)\n",
        "    test_data.append(np.array(img))\n",
        "    test_result.append(encoder.transform([[1]]).toarray())"
      ],
      "metadata": {
        "id": "kr2gKPjG03f1"
      },
      "execution_count": null,
      "outputs": []
    },
    {
      "cell_type": "code",
      "source": [
        "paths=[]\n",
        "\n",
        "for r,d,f in os.walk('/content/drive/MyDrive/Thesis_Bsc/test/happy'):\n",
        "    for file in f:\n",
        "        if '.jpg' or '.png' in file:\n",
        "            paths.append(os.path.join(r,file))\n",
        "for path in paths:\n",
        "    img=Image.open(path)\n",
        "    img=img.resize((48,48))\n",
        "    img=np.array(img)\n",
        "    test_data.append(np.array(img))\n",
        "    test_result.append(encoder.transform([[2]]).toarray())"
      ],
      "metadata": {
        "id": "SEyAqrJK03mn"
      },
      "execution_count": null,
      "outputs": []
    },
    {
      "cell_type": "code",
      "source": [
        "paths=[]\n",
        "\n",
        "for r,d,f in os.walk('/content/drive/MyDrive/Thesis_Bsc/test/neutral'):\n",
        "    for file in f:\n",
        "        if '.jpg' or '.png' in file:\n",
        "            paths.append(os.path.join(r,file))\n",
        "for path in paths:\n",
        "    img=Image.open(path)\n",
        "    img=img.resize((48,48))\n",
        "    img=np.array(img)\n",
        "    test_data.append(np.array(img))\n",
        "    test_result.append(encoder.transform([[3]]).toarray())"
      ],
      "metadata": {
        "id": "yAdbNMmD03xw"
      },
      "execution_count": null,
      "outputs": []
    },
    {
      "cell_type": "code",
      "source": [
        "paths=[]\n",
        "\n",
        "for r,d,f in os.walk('/content/drive/MyDrive/Thesis_Bsc/test/sad'):\n",
        "    for file in f:\n",
        "        if '.jpg' or '.png' in file:\n",
        "            paths.append(os.path.join(r,file))\n",
        "for path in paths:\n",
        "    img=Image.open(path)\n",
        "    img=img.resize((48,48))\n",
        "    img=np.array(img)\n",
        "    test_data.append(np.array(img))\n",
        "    test_result.append(encoder.transform([[4]]).toarray())"
      ],
      "metadata": {
        "id": "O0bBgMR51Jin"
      },
      "execution_count": null,
      "outputs": []
    },
    {
      "cell_type": "code",
      "source": [
        "paths=[]\n",
        "\n",
        "for r,d,f in os.walk('/content/drive/MyDrive/Thesis_Bsc/test/surprise'):\n",
        "    for file in f:\n",
        "        if '.jpg' or '.png' in file:\n",
        "            paths.append(os.path.join(r,file))\n",
        "for path in paths:\n",
        "    img=Image.open(path)\n",
        "    img=img.resize((48,48))\n",
        "    img=np.array(img)\n",
        "    test_data.append(np.array(img))\n",
        "    test_result.append(encoder.transform([[5]]).toarray())"
      ],
      "metadata": {
        "id": "rT6IsleJ1SDY"
      },
      "execution_count": null,
      "outputs": []
    },
    {
      "cell_type": "code",
      "source": [
        "test_data=np.array(test_data)\n",
        "test_data.shape"
      ],
      "metadata": {
        "colab": {
          "base_uri": "https://localhost:8080/"
        },
        "id": "fe7unKpA2Urf",
        "outputId": "879f7067-74fa-4e3d-9eaa-71ea043f2a06"
      },
      "execution_count": null,
      "outputs": [
        {
          "output_type": "execute_result",
          "data": {
            "text/plain": [
              "(7067, 48, 48)"
            ]
          },
          "metadata": {},
          "execution_count": 49
        }
      ]
    },
    {
      "cell_type": "code",
      "source": [
        "test_result=np.array(test_result)\n",
        "#result=result.reshape(15453,6)\n",
        "test_result.shape"
      ],
      "metadata": {
        "colab": {
          "base_uri": "https://localhost:8080/"
        },
        "id": "OsorMEZl2a8A",
        "outputId": "1f82ac75-1df8-437e-890d-9b76f1e7536f"
      },
      "execution_count": null,
      "outputs": [
        {
          "output_type": "execute_result",
          "data": {
            "text/plain": [
              "(7067, 1, 6)"
            ]
          },
          "metadata": {},
          "execution_count": 50
        }
      ]
    },
    {
      "cell_type": "code",
      "source": [
        "import pickle\n",
        "\n",
        "## Assuming data and result are lists\n",
        "#with open('test_image_data.pkl', 'wb') as f:\n",
        "#    pickle.dump(test_data, f)\n",
        "\n",
        "with open('image_data.pkl', 'wb') as f:\n",
        "    pickle.dump(data, f)"
      ],
      "metadata": {
        "id": "VRpMH4-Cro7H"
      },
      "execution_count": null,
      "outputs": []
    },
    {
      "cell_type": "code",
      "source": [
        "mean = np.mean(data, axis=(0, 1, 2))\n",
        "std = np.std(data, axis=(0, 1, 2))\n",
        "\n",
        "print(\"Mean of the images:\", mean)\n",
        "print(\"Standard Deviation of the images:\", std)"
      ],
      "metadata": {
        "colab": {
          "base_uri": "https://localhost:8080/"
        },
        "id": "uFLuaqzfwzBQ",
        "outputId": "25ec9798-6413-42d2-c340-746b4d670579"
      },
      "execution_count": null,
      "outputs": [
        {
          "output_type": "stream",
          "name": "stdout",
          "text": [
            "Mean of the images: 129.38460663908833\n",
            "Standard Deviation of the images: 65.06567431978068\n"
          ]
        }
      ]
    }
  ]
}